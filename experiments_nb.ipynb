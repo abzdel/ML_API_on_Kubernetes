{
 "cells": [
  {
   "cell_type": "code",
   "execution_count": 1,
   "metadata": {},
   "outputs": [
    {
     "name": "stderr",
     "output_type": "stream",
     "text": [
      "/home/codespace/.local/lib/python3.10/site-packages/sklearn/base.py:329: UserWarning: Trying to unpickle estimator LinearRegression from version 1.1.3 when using version 1.0.2. This might lead to breaking code or invalid results. Use at your own risk. For more info please refer to:\n",
      "https://scikit-learn.org/stable/modules/model_persistence.html#security-maintainability-limitations\n",
      "  warnings.warn(\n"
     ]
    }
   ],
   "source": [
    "from fastapi import FastAPI\n",
    "from pydantic import BaseModel\n",
    "import pickle\n",
    "\n",
    "# import pandas as pd\n",
    "import uvicorn\n",
    "\n",
    "app = FastAPI()\n",
    "\n",
    "\n",
    "class Stats(BaseModel):\n",
    "    PTS_5: float\n",
    "    stl_5: float\n",
    "    ft_pct_5: float\n",
    "    min_5: float\n",
    "\n",
    "\n",
    "# df = pd.read_csv(\"sample.csv\")\n",
    "# df.drop([\"Unnamed: 4\"], axis=1, inplace=True)\n",
    "\n",
    "\n",
    "with open(\"model/ppg_model.pkl\", \"rb\") as f:\n",
    "    model = pickle.load(f)\n",
    "\n",
    "\n",
    "# @app.get(\"/predict\")\n",
    "async def predict_ppg(data: Stats):\n",
    "\n",
    "    data = data.dict()\n",
    "    PTS_5 = data[\"PTS_5\"]\n",
    "    stl_5 = data[\"stl_5\"]\n",
    "    ft_pct_5 = data[\"ft_pct_5\"]\n",
    "    min_5 = data[\"min_5\"]\n",
    "\n",
    "    pred = model.predict([[PTS_5, stl_5, ft_pct_5, min_5]])\n",
    "    return {\"prediction\": pred}"
   ]
  },
  {
   "cell_type": "code",
   "execution_count": 20,
   "metadata": {},
   "outputs": [],
   "source": [
    "def predict_ppg(data):\n",
    "\n",
    "    # data = data.dict()\n",
    "\n",
    "    PTS_5 = data.PTS_5\n",
    "    stl_5 = data.stl_5\n",
    "    ft_pct_5 = data.ft_pct_5\n",
    "    min_5 = data.min_5\n",
    "\n",
    "    pred = model.predict([[PTS_5, stl_5, ft_pct_5, min_5]])\n",
    "    return {\"prediction\": pred}"
   ]
  },
  {
   "cell_type": "code",
   "execution_count": 25,
   "metadata": {},
   "outputs": [],
   "source": [
    "data = Stats(\n",
    "    PTS_5=16,\n",
    "    stl_5=7,\n",
    "    ft_pct_5=8,\n",
    "    min_5=400,\n",
    ")"
   ]
  },
  {
   "cell_type": "code",
   "execution_count": 24,
   "metadata": {},
   "outputs": [
    {
     "name": "stderr",
     "output_type": "stream",
     "text": [
      "/home/codespace/.local/lib/python3.10/site-packages/sklearn/base.py:450: UserWarning: X does not have valid feature names, but LinearRegression was fitted with feature names\n",
      "  warnings.warn(\n"
     ]
    },
    {
     "data": {
      "text/plain": [
       "{'prediction': array([-107.54351318])}"
      ]
     },
     "execution_count": 24,
     "metadata": {},
     "output_type": "execute_result"
    }
   ],
   "source": [
    "predict_ppg(data)"
   ]
  },
  {
   "cell_type": "code",
   "execution_count": 28,
   "metadata": {},
   "outputs": [],
   "source": [
    "def predict_ppg(pts_5, stl_5, ft_pct_5, min_5):\n",
    "    data = Stats(PTS_5=pts_5, stl_5=stl_5, ft_pct_5=ft_pct_5, min_5=min_5)\n",
    "    # PTS_5 = pts_5\n",
    "    # stl_5 = stl_5\n",
    "    # ft_pct_5 = ft_pct_5\n",
    "    # min_5 = min_5\n",
    "\n",
    "    pred = model.predict(data)\n",
    "    return {\"prediction\": pred}\n",
    "\n",
    "    # return {\"prediction\": pred}"
   ]
  },
  {
   "cell_type": "code",
   "execution_count": 29,
   "metadata": {},
   "outputs": [
    {
     "ename": "NameError",
     "evalue": "name 'pts_5' is not defined",
     "output_type": "error",
     "traceback": [
      "\u001b[0;31m---------------------------------------------------------------------------\u001b[0m",
      "\u001b[0;31mNameError\u001b[0m                                 Traceback (most recent call last)",
      "Cell \u001b[0;32mIn[29], line 1\u001b[0m\n\u001b[0;32m----> 1\u001b[0m predict_ppg(data)\n",
      "Cell \u001b[0;32mIn[28], line 2\u001b[0m, in \u001b[0;36mpredict_ppg\u001b[0;34m(data)\u001b[0m\n\u001b[1;32m      1\u001b[0m \u001b[39mdef\u001b[39;00m \u001b[39mpredict_ppg\u001b[39m(data:Stats):\n\u001b[0;32m----> 2\u001b[0m     data \u001b[39m=\u001b[39m Stats(PTS_5\u001b[39m=\u001b[39mpts_5, stl_5\u001b[39m=\u001b[39mstl_5, ft_pct_5\u001b[39m=\u001b[39mft_pct_5, min_5\u001b[39m=\u001b[39mmin_5)\n\u001b[1;32m      3\u001b[0m     \u001b[39m# PTS_5 = pts_5\u001b[39;00m\n\u001b[1;32m      4\u001b[0m     \u001b[39m# stl_5 = stl_5\u001b[39;00m\n\u001b[1;32m      5\u001b[0m     \u001b[39m# ft_pct_5 = ft_pct_5\u001b[39;00m\n\u001b[1;32m      6\u001b[0m     \u001b[39m# min_5 = min_5\u001b[39;00m\n\u001b[1;32m      8\u001b[0m     pred \u001b[39m=\u001b[39m model\u001b[39m.\u001b[39mpredict(data)\n",
      "\u001b[0;31mNameError\u001b[0m: name 'pts_5' is not defined"
     ]
    }
   ],
   "source": [
    "predict_ppg(data)"
   ]
  }
 ],
 "metadata": {
  "kernelspec": {
   "display_name": "Python 3.10.4 64-bit",
   "language": "python",
   "name": "python3"
  },
  "language_info": {
   "codemirror_mode": {
    "name": "ipython",
    "version": 3
   },
   "file_extension": ".py",
   "mimetype": "text/x-python",
   "name": "python",
   "nbconvert_exporter": "python",
   "pygments_lexer": "ipython3",
   "version": "3.10.4"
  },
  "orig_nbformat": 4,
  "vscode": {
   "interpreter": {
    "hash": "3ad933181bd8a04b432d3370b9dc3b0662ad032c4dfaa4e4f1596c548f763858"
   }
  }
 },
 "nbformat": 4,
 "nbformat_minor": 2
}
